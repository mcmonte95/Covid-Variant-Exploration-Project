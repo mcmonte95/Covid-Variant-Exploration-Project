{
 "cells": [
  {
   "cell_type": "code",
   "execution_count": 27,
   "id": "0f2006b6",
   "metadata": {},
   "outputs": [
    {
     "name": "stderr",
     "output_type": "stream",
     "text": [
      "WARNING:root:Requests made without an app_token will be subject to strict throttling limits.\n"
     ]
    },
    {
     "name": "stdout",
     "output_type": "stream",
     "text": [
      "   Variant Type              week_ending Count Total Share Percentage\n",
      "0             B  2023-02-25T00:00:00.000   242                  0.02%\n",
      "1             B  2023-03-04T00:00:00.000   462                  0.01%\n",
      "2             B  2023-03-11T00:00:00.000   198                  0.01%\n",
      "3             B  2023-04-01T00:00:00.000   374                  0.00%\n",
      "4             B  2023-04-08T00:00:00.000    99                  0.00%\n",
      "5             B  2023-04-15T00:00:00.000   308                  0.00%\n",
      "6            BA  2023-02-25T00:00:00.000  1089                  7.58%\n",
      "7            BA  2023-03-04T00:00:00.000  2079                  5.08%\n",
      "8            BA  2023-03-11T00:00:00.000   880                  3.50%\n",
      "9            BA  2023-04-01T00:00:00.000  1650                  0.18%\n",
      "10           BA  2023-04-08T00:00:00.000   462                  0.08%\n",
      "11           BA  2023-04-15T00:00:00.000  1463                  0.04%\n",
      "12           BF  2023-02-25T00:00:00.000   242                  1.43%\n",
      "13           BF  2023-03-04T00:00:00.000   462                  0.77%\n",
      "14           BF  2023-03-11T00:00:00.000   198                  0.41%\n",
      "15           BF  2023-04-01T00:00:00.000   374                  0.03%\n",
      "16           BF  2023-04-08T00:00:00.000   110                  0.01%\n",
      "17           BF  2023-04-15T00:00:00.000   330                  0.01%\n",
      "18           BN  2023-02-25T00:00:00.000   121                  4.10%\n",
      "19           BN  2023-03-04T00:00:00.000   231                  2.58%\n",
      "20           BN  2023-03-11T00:00:00.000    99                  1.58%\n",
      "21           BN  2023-04-01T00:00:00.000   187                  0.14%\n",
      "22           BN  2023-04-08T00:00:00.000    55                  0.06%\n",
      "23           BN  2023-04-15T00:00:00.000   165                  0.04%\n",
      "24           BQ  2023-02-25T00:00:00.000   242                131.10%\n",
      "25           BQ  2023-03-04T00:00:00.000   462                 89.36%\n",
      "26           BQ  2023-03-11T00:00:00.000   198                 59.55%\n",
      "27           BQ  2023-04-01T00:00:00.000   374                  5.35%\n",
      "28           BQ  2023-04-08T00:00:00.000   110                  3.40%\n",
      "29           BQ  2023-04-15T00:00:00.000   330                  2.08%\n",
      "30           CH  2023-02-25T00:00:00.000   121                  9.24%\n",
      "31           CH  2023-03-04T00:00:00.000   231                  7.30%\n",
      "32           CH  2023-03-11T00:00:00.000    99                  5.64%\n",
      "33           CH  2023-04-01T00:00:00.000   187                  1.79%\n",
      "34           CH  2023-04-08T00:00:00.000    55                  0.95%\n",
      "35           CH  2023-04-15T00:00:00.000   165                  0.70%\n",
      "36           FD  2023-04-01T00:00:00.000   209                  3.04%\n",
      "37           FD  2023-04-08T00:00:00.000    44                  2.59%\n",
      "38           FD  2023-04-15T00:00:00.000   209                  2.39%\n",
      "39          XBB  2023-02-25T00:00:00.000   396                945.05%\n",
      "40          XBB  2023-03-04T00:00:00.000  1793                993.85%\n",
      "41          XBB  2023-03-11T00:00:00.000   374               1028.59%\n",
      "42          XBB  2023-04-01T00:00:00.000  1705                399.30%\n",
      "43          XBB  2023-04-08T00:00:00.000   264                392.74%\n",
      "44          XBB  2023-04-15T00:00:00.000  1639                394.64%\n"
     ]
    }
   ],
   "source": [
    "#!/usr/bin/env python\n",
    "import pandas as pd\n",
    "from sodapy import Socrata\n",
    "\n",
    "client = Socrata(\"data.cdc.gov\", None)\n",
    "\n",
    "# Fetch variant names, the share column, and the week_ending column from the API\n",
    "results = client.get(\"jr58-6ysp\", content_type=\"json\", select=\"variant, share, week_ending\")\n",
    "\n",
    "# Convert to pandas DataFrame and extract unique prefixes\n",
    "results_df = pd.DataFrame.from_records(results)\n",
    "results_df['share'] = results_df['share'].astype(float) * 100  # Multiply by 100 to convert to percentage\n",
    "results_df['variant_prefix'] = results_df['variant'].str.split('.').str[0]\n",
    "\n",
    "# Compute total share for each unique prefix and week\n",
    "total_shares_per_week = results_df.groupby(['variant_prefix', 'week_ending'])['share'].sum().reset_index()\n",
    "\n",
    "# Fetch the count for each unique prefix and week combination\n",
    "counts = []\n",
    "for _, row in total_shares_per_week.iterrows():\n",
    "    prefix = row['variant_prefix']\n",
    "    week = row['week_ending']\n",
    "    count_results = client.get(\"jr58-6ysp\", content_type=\"json\", where=f\"variant LIKE '{prefix}.%' AND week_ending='{week}'\", select=\"COUNT(variant) AS variant_count\")\n",
    "    counts.append({\n",
    "        'variant_prefix': prefix,\n",
    "        'week_ending': week,\n",
    "        'count': count_results[0][\"variant_count\"]\n",
    "    })\n",
    "\n",
    "# Convert the counts into a pandas DataFrame\n",
    "count_df = pd.DataFrame(counts)\n",
    "count_df = count_df[count_df['variant_prefix'] != 'Other'].reset_index(drop=True)\n",
    "\n",
    "# Merge count_df with total_shares_per_week on variant_prefix and week_ending\n",
    "final_df = pd.merge(count_df, total_shares_per_week, on=['variant_prefix', 'week_ending'])\n",
    "\n",
    "# Rename columns\n",
    "final_df = final_df.rename(columns={'variant_prefix': 'Variant Type', 'count': 'Count'})\n",
    "\n",
    "# Format the 'share' column to show % sign\n",
    "final_df['Total Share Percentage'] = final_df['share'].map('{:.2f}%'.format)\n",
    "\n",
    "# Drop the unformatted 'share' column\n",
    "final_df.drop('share', axis=1, inplace=True)\n",
    "\n",
    "print(final_df)\n",
    "\n"
   ]
  },
  {
   "cell_type": "code",
   "execution_count": 22,
   "id": "b2182ce4",
   "metadata": {},
   "outputs": [],
   "source": [
    "# Convert the appropriate columns to python datetime\n",
    "# results_df['week_ending'] = pd.to_datetime(results_df['week_ending'], format='%Y-%m-%dT%H:%M:%S.%f')\n",
    "# results_df['creation_date'] = pd.to_datetime(results_df['creation_date'], format='%Y-%m-%dT%H:%M:%S.%f')\n"
   ]
  },
  {
   "cell_type": "code",
   "execution_count": 23,
   "id": "7703b1cb",
   "metadata": {},
   "outputs": [],
   "source": [
    "# rename chare column then convert to floats \n",
    "# results_df.rename(columns={'share' : 'Share (%)'}, inplace=True)\n",
    "# results_df['Share (%)'] = results_df['Share (%)'].astype(float) * 100\n",
    "# results_df.head(5)"
   ]
  },
  {
   "cell_type": "code",
   "execution_count": 24,
   "id": "b0f3353b",
   "metadata": {},
   "outputs": [],
   "source": [
    "# results_df.tail()"
   ]
  },
  {
   "cell_type": "code",
   "execution_count": 10,
   "id": "b7102027",
   "metadata": {},
   "outputs": [
    {
     "data": {
      "text/plain": [
       "54"
      ]
     },
     "execution_count": 10,
     "metadata": {},
     "output_type": "execute_result"
    }
   ],
   "source": [
    "# results_df['variant'].nunique()"
   ]
  },
  {
   "cell_type": "code",
   "execution_count": null,
   "id": "d96c6981",
   "metadata": {},
   "outputs": [],
   "source": []
  }
 ],
 "metadata": {
  "kernelspec": {
   "display_name": "Python 3 (ipykernel)",
   "language": "python",
   "name": "python3"
  },
  "language_info": {
   "codemirror_mode": {
    "name": "ipython",
    "version": 3
   },
   "file_extension": ".py",
   "mimetype": "text/x-python",
   "name": "python",
   "nbconvert_exporter": "python",
   "pygments_lexer": "ipython3",
   "version": "3.11.4"
  }
 },
 "nbformat": 4,
 "nbformat_minor": 5
}
