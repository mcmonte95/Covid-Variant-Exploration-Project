{
 "cells": [
  {
   "cell_type": "code",
   "execution_count": 1,
   "id": "0f2006b6",
   "metadata": {},
   "outputs": [
    {
     "name": "stderr",
     "output_type": "stream",
     "text": [
      "WARNING:root:Requests made without an app_token will be subject to strict throttling limits.\n"
     ]
    }
   ],
   "source": [
    "#!/usr/bin/env python\n",
    "\n",
    "# make sure to install these packages before running:\n",
    "# pip install pandas\n",
    "# pip install sodapy\n",
    "\n",
    "import pandas as pd\n",
    "from sodapy import Socrata\n",
    "import datetime\n",
    "\n",
    "# Unauthenticated client only works with public data sets. Note 'None'\n",
    "# in place of application token, and no username or password:\n",
    "client = Socrata(\"data.cdc.gov\", None)\n",
    "\n",
    "# Example authenticated client (needed for non-public datasets):\n",
    "# client = Socrata(data.cdc.gov,\n",
    "#                  MyAppToken,\n",
    "#                  username=\"user@example.com\",\n",
    "#                  password=\"AFakePassword\")\n",
    "\n",
    "# First 2000 results, returned as JSON from API / converted to Python list of\n",
    "# dictionaries by sodapy.\n",
    "results = client.get(\"jr58-6ysp\", limit=2000)\n",
    "\n",
    "# Convert to pandas DataFrame\n",
    "results_df = pd.DataFrame.from_records(results)\n"
   ]
  },
  {
   "cell_type": "code",
   "execution_count": 2,
   "id": "b2182ce4",
   "metadata": {},
   "outputs": [],
   "source": [
    "# Convert the appropriate columns to python datetime\n",
    "results_df['week_ending'] = pd.to_datetime(results_df['week_ending'], format='%Y-%m-%dT%H:%M:%S.%f')\n",
    "results_df['creation_date'] = pd.to_datetime(results_df['creation_date'], format='%Y-%m-%dT%H:%M:%S.%f')\n"
   ]
  },
  {
   "cell_type": "code",
   "execution_count": 3,
   "id": "7703b1cb",
   "metadata": {},
   "outputs": [
    {
     "data": {
      "text/html": [
       "<div>\n",
       "<style scoped>\n",
       "    .dataframe tbody tr th:only-of-type {\n",
       "        vertical-align: middle;\n",
       "    }\n",
       "\n",
       "    .dataframe tbody tr th {\n",
       "        vertical-align: top;\n",
       "    }\n",
       "\n",
       "    .dataframe thead th {\n",
       "        text-align: right;\n",
       "    }\n",
       "</style>\n",
       "<table border=\"1\" class=\"dataframe\">\n",
       "  <thead>\n",
       "    <tr style=\"text-align: right;\">\n",
       "      <th></th>\n",
       "      <th>usa_or_hhsregion</th>\n",
       "      <th>week_ending</th>\n",
       "      <th>variant</th>\n",
       "      <th>Share (%)</th>\n",
       "      <th>share_hi</th>\n",
       "      <th>share_lo</th>\n",
       "      <th>count_lt10</th>\n",
       "      <th>modeltype</th>\n",
       "      <th>time_interval</th>\n",
       "      <th>creation_date</th>\n",
       "    </tr>\n",
       "  </thead>\n",
       "  <tbody>\n",
       "    <tr>\n",
       "      <th>0</th>\n",
       "      <td>1</td>\n",
       "      <td>2023-02-25</td>\n",
       "      <td>CH.1.1</td>\n",
       "      <td>0.002611</td>\n",
       "      <td>0.004610351752489805</td>\n",
       "      <td>0.0014449068112298846</td>\n",
       "      <td>NULL</td>\n",
       "      <td>smoothed</td>\n",
       "      <td>weekly</td>\n",
       "      <td>2023-03-10</td>\n",
       "    </tr>\n",
       "    <tr>\n",
       "      <th>1</th>\n",
       "      <td>1</td>\n",
       "      <td>2023-02-25</td>\n",
       "      <td>BN.1</td>\n",
       "      <td>0.000462</td>\n",
       "      <td>0.0006514294072985649</td>\n",
       "      <td>0.00032594785443507135</td>\n",
       "      <td>NULL</td>\n",
       "      <td>smoothed</td>\n",
       "      <td>weekly</td>\n",
       "      <td>2023-03-10</td>\n",
       "    </tr>\n",
       "    <tr>\n",
       "      <th>2</th>\n",
       "      <td>1</td>\n",
       "      <td>2023-02-25</td>\n",
       "      <td>XBB.1.5.1</td>\n",
       "      <td>0.019512</td>\n",
       "      <td>0.032935816794633865</td>\n",
       "      <td>0.011292536742985249</td>\n",
       "      <td>NULL</td>\n",
       "      <td>smoothed</td>\n",
       "      <td>weekly</td>\n",
       "      <td>2023-03-10</td>\n",
       "    </tr>\n",
       "    <tr>\n",
       "      <th>3</th>\n",
       "      <td>1</td>\n",
       "      <td>2023-02-25</td>\n",
       "      <td>BA.5.2.6</td>\n",
       "      <td>0.000064</td>\n",
       "      <td>0.00009090593812288716</td>\n",
       "      <td>4.413523492985405e-05</td>\n",
       "      <td>NULL</td>\n",
       "      <td>smoothed</td>\n",
       "      <td>weekly</td>\n",
       "      <td>2023-03-10</td>\n",
       "    </tr>\n",
       "    <tr>\n",
       "      <th>4</th>\n",
       "      <td>1</td>\n",
       "      <td>2023-02-25</td>\n",
       "      <td>BA.2.75</td>\n",
       "      <td>0.000037</td>\n",
       "      <td>0.00007894295413279906</td>\n",
       "      <td>1.6694790247129276e-05</td>\n",
       "      <td>NULL</td>\n",
       "      <td>smoothed</td>\n",
       "      <td>weekly</td>\n",
       "      <td>2023-03-10</td>\n",
       "    </tr>\n",
       "  </tbody>\n",
       "</table>\n",
       "</div>"
      ],
      "text/plain": [
       "  usa_or_hhsregion week_ending    variant  Share (%)                share_hi  \\\n",
       "0                1  2023-02-25     CH.1.1   0.002611    0.004610351752489805   \n",
       "1                1  2023-02-25       BN.1   0.000462   0.0006514294072985649   \n",
       "2                1  2023-02-25  XBB.1.5.1   0.019512    0.032935816794633865   \n",
       "3                1  2023-02-25   BA.5.2.6   0.000064  0.00009090593812288716   \n",
       "4                1  2023-02-25    BA.2.75   0.000037  0.00007894295413279906   \n",
       "\n",
       "                 share_lo count_lt10 modeltype time_interval creation_date  \n",
       "0   0.0014449068112298846       NULL  smoothed        weekly    2023-03-10  \n",
       "1  0.00032594785443507135       NULL  smoothed        weekly    2023-03-10  \n",
       "2    0.011292536742985249       NULL  smoothed        weekly    2023-03-10  \n",
       "3   4.413523492985405e-05       NULL  smoothed        weekly    2023-03-10  \n",
       "4  1.6694790247129276e-05       NULL  smoothed        weekly    2023-03-10  "
      ]
     },
     "execution_count": 3,
     "metadata": {},
     "output_type": "execute_result"
    }
   ],
   "source": [
    "# rename chare column then convert to floats \n",
    "results_df.rename(columns={'share' : 'Share (%)'}, inplace=True)\n",
    "results_df['Share (%)'] = results_df['Share (%)'].astype(float) \n",
    "results_df.head(5)"
   ]
  },
  {
   "cell_type": "code",
   "execution_count": 4,
   "id": "b0f3353b",
   "metadata": {},
   "outputs": [
    {
     "data": {
      "text/plain": [
       "usa_or_hhsregion            object\n",
       "week_ending         datetime64[ns]\n",
       "variant                     object\n",
       "Share (%)                  float64\n",
       "share_hi                    object\n",
       "share_lo                    object\n",
       "count_lt10                  object\n",
       "modeltype                   object\n",
       "time_interval               object\n",
       "creation_date       datetime64[ns]\n",
       "dtype: object"
      ]
     },
     "execution_count": 4,
     "metadata": {},
     "output_type": "execute_result"
    }
   ],
   "source": [
    "results_df.tail()"
   ]
  },
  {
   "cell_type": "code",
   "execution_count": null,
   "id": "b7102027",
   "metadata": {},
   "outputs": [],
   "source": []
  }
 ],
 "metadata": {
  "kernelspec": {
   "display_name": "Python 3 (ipykernel)",
   "language": "python",
   "name": "python3"
  },
  "language_info": {
   "codemirror_mode": {
    "name": "ipython",
    "version": 3
   },
   "file_extension": ".py",
   "mimetype": "text/x-python",
   "name": "python",
   "nbconvert_exporter": "python",
   "pygments_lexer": "ipython3",
   "version": "3.11.4"
  }
 },
 "nbformat": 4,
 "nbformat_minor": 5
}
